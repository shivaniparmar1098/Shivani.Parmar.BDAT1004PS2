{
 "cells": [
  {
   "cell_type": "code",
   "execution_count": 1,
   "id": "80ab2c71",
   "metadata": {},
   "outputs": [],
   "source": [
    "# Question 5"
   ]
  },
  {
   "cell_type": "code",
   "execution_count": null,
   "id": "650dc71c",
   "metadata": {},
   "outputs": [],
   "source": [
    "# here the function binary() takes n as an integer as non-negative values and then recursively calls itself to n // 2 to get binary representation\n",
    "# then is appends the remainder n % 2 as string\n",
    "# then finally it will stop the recursion when the value of n becomes 0 or 1"
   ]
  },
  {
   "cell_type": "code",
   "execution_count": 1,
   "id": "8b667d31",
   "metadata": {},
   "outputs": [],
   "source": [
    "def binary(n):\n",
    "    if n == 0:\n",
    "        print(0, end='')\n",
    "    elif n == 1:\n",
    "        print(1, end='')\n",
    "    else:\n",
    "        binaryvalue(n // 2)\n",
    "        print(n % 2, end='')"
   ]
  },
  {
   "cell_type": "code",
   "execution_count": 2,
   "id": "781c06cb",
   "metadata": {},
   "outputs": [
    {
     "name": "stdout",
     "output_type": "stream",
     "text": [
      "0"
     ]
    }
   ],
   "source": [
    "binary(0)"
   ]
  },
  {
   "cell_type": "code",
   "execution_count": 3,
   "id": "569a765b",
   "metadata": {},
   "outputs": [
    {
     "name": "stdout",
     "output_type": "stream",
     "text": [
      "1"
     ]
    }
   ],
   "source": [
    "binary(1)"
   ]
  },
  {
   "cell_type": "code",
   "execution_count": 4,
   "id": "83437d3a",
   "metadata": {},
   "outputs": [
    {
     "name": "stdout",
     "output_type": "stream",
     "text": [
      "11"
     ]
    }
   ],
   "source": [
    "binary(3)"
   ]
  },
  {
   "cell_type": "code",
   "execution_count": 5,
   "id": "8da3d2af",
   "metadata": {},
   "outputs": [
    {
     "name": "stdout",
     "output_type": "stream",
     "text": [
      "1001"
     ]
    }
   ],
   "source": [
    "binary(9)"
   ]
  }
 ],
 "metadata": {
  "kernelspec": {
   "display_name": "Python 3 (ipykernel)",
   "language": "python",
   "name": "python3"
  },
  "language_info": {
   "codemirror_mode": {
    "name": "ipython",
    "version": 3
   },
   "file_extension": ".py",
   "mimetype": "text/x-python",
   "name": "python",
   "nbconvert_exporter": "python",
   "pygments_lexer": "ipython3",
   "version": "3.9.13"
  }
 },
 "nbformat": 4,
 "nbformat_minor": 5
}
