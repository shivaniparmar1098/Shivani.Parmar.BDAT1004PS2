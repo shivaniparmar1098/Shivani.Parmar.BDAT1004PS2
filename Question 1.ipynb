{
 "cells": [
  {
   "cell_type": "code",
   "execution_count": null,
   "id": "056e1d71",
   "metadata": {},
   "outputs": [],
   "source": [
    "# Question 1 "
   ]
  },
  {
   "cell_type": "code",
   "execution_count": null,
   "id": "530212af",
   "metadata": {},
   "outputs": [],
   "source": [
    "# here firstly a is assigned to 0, b() is a function that declares global variable a and function c takes a as argument \n",
    "# and returns a + 2"
   ]
  },
  {
   "cell_type": "code",
   "execution_count": 1,
   "id": "9093acd9",
   "metadata": {},
   "outputs": [],
   "source": [
    "a = 0\n",
    "def b():\n",
    "    global a\n",
    "    a = c(a)\n",
    "def c(a):\n",
    "    return a + 2"
   ]
  },
  {
   "cell_type": "code",
   "execution_count": 2,
   "id": "799bdbb2",
   "metadata": {},
   "outputs": [],
   "source": [
    "# here when function b() is called for the first time, it returns the value \"2\" : 0 + 2 = 2"
   ]
  },
  {
   "cell_type": "code",
   "execution_count": 3,
   "id": "28c5406f",
   "metadata": {},
   "outputs": [],
   "source": [
    "b()"
   ]
  },
  {
   "cell_type": "code",
   "execution_count": 4,
   "id": "d7d9eb86",
   "metadata": {},
   "outputs": [],
   "source": [
    "# then calling b() for second time, it returns \"4\" because now the value of a is 2 : 2 + 2 = 4 "
   ]
  },
  {
   "cell_type": "code",
   "execution_count": 5,
   "id": "c2ddcbd5",
   "metadata": {},
   "outputs": [],
   "source": [
    "b()"
   ]
  },
  {
   "cell_type": "code",
   "execution_count": 6,
   "id": "c4496559",
   "metadata": {},
   "outputs": [],
   "source": [
    "# similary, calling b() for the third time will give the value of a as \"6\", as a was 4. So now 4 + 2 = 6"
   ]
  },
  {
   "cell_type": "code",
   "execution_count": 7,
   "id": "e23036aa",
   "metadata": {},
   "outputs": [],
   "source": [
    "b()"
   ]
  },
  {
   "cell_type": "code",
   "execution_count": 8,
   "id": "f6fc30be",
   "metadata": {},
   "outputs": [],
   "source": [
    "# Finally here the value of a is printed : that is \"6\""
   ]
  },
  {
   "cell_type": "code",
   "execution_count": 9,
   "id": "b8db37b5",
   "metadata": {},
   "outputs": [
    {
     "data": {
      "text/plain": [
       "6"
      ]
     },
     "execution_count": 9,
     "metadata": {},
     "output_type": "execute_result"
    }
   ],
   "source": [
    "a"
   ]
  }
 ],
 "metadata": {
  "kernelspec": {
   "display_name": "Python 3 (ipykernel)",
   "language": "python",
   "name": "python3"
  },
  "language_info": {
   "codemirror_mode": {
    "name": "ipython",
    "version": 3
   },
   "file_extension": ".py",
   "mimetype": "text/x-python",
   "name": "python",
   "nbconvert_exporter": "python",
   "pygments_lexer": "ipython3",
   "version": "3.9.13"
  }
 },
 "nbformat": 4,
 "nbformat_minor": 5
}
