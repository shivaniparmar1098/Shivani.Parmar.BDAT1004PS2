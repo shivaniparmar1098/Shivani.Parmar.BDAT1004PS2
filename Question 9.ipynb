{
 "cells": [
  {
   "cell_type": "code",
   "execution_count": null,
   "id": "00c6635c",
   "metadata": {},
   "outputs": [],
   "source": [
    "# Question 9"
   ]
  },
  {
   "cell_type": "code",
   "execution_count": null,
   "id": "e9c55503",
   "metadata": {},
   "outputs": [],
   "source": [
    "# list of words"
   ]
  },
  {
   "cell_type": "code",
   "execution_count": 9,
   "id": "b6c2e4e8",
   "metadata": {},
   "outputs": [],
   "source": [
    "words = ['The', 'quick', 'brown', 'fox', 'jumps', 'over', 'the', 'lazy', 'dog']"
   ]
  },
  {
   "cell_type": "code",
   "execution_count": null,
   "id": "f445ec30",
   "metadata": {},
   "outputs": [],
   "source": [
    "# To generate a list with all words in uppercase"
   ]
  },
  {
   "cell_type": "code",
   "execution_count": 10,
   "id": "85e826e0",
   "metadata": {},
   "outputs": [
    {
     "data": {
      "text/plain": [
       "['THE', 'QUICK', 'BROWN', 'FOX', 'JUMPS', 'OVER', 'THE', 'LAZY', 'DOG']"
      ]
     },
     "execution_count": 10,
     "metadata": {},
     "output_type": "execute_result"
    }
   ],
   "source": [
    "[word.upper() for word in words]"
   ]
  },
  {
   "cell_type": "code",
   "execution_count": null,
   "id": "525428ef",
   "metadata": {},
   "outputs": [],
   "source": [
    "# To generate a list with all words in lowercase"
   ]
  },
  {
   "cell_type": "code",
   "execution_count": 11,
   "id": "a9198ab3",
   "metadata": {},
   "outputs": [
    {
     "data": {
      "text/plain": [
       "['the', 'quick', 'brown', 'fox', 'jumps', 'over', 'the', 'lazy', 'dog']"
      ]
     },
     "execution_count": 11,
     "metadata": {},
     "output_type": "execute_result"
    }
   ],
   "source": [
    "[word.lower() for word in words]"
   ]
  },
  {
   "cell_type": "code",
   "execution_count": null,
   "id": "2899fab9",
   "metadata": {},
   "outputs": [],
   "source": [
    "# To generate a list with the length of each word in words"
   ]
  },
  {
   "cell_type": "code",
   "execution_count": 13,
   "id": "fb99fb87",
   "metadata": {},
   "outputs": [
    {
     "data": {
      "text/plain": [
       "[3, 5, 5, 3, 5, 4, 3, 4, 3]"
      ]
     },
     "execution_count": 13,
     "metadata": {},
     "output_type": "execute_result"
    }
   ],
   "source": [
    "[len(word) for word in words]"
   ]
  },
  {
   "cell_type": "code",
   "execution_count": null,
   "id": "b324939e",
   "metadata": {},
   "outputs": [],
   "source": [
    "# To generate a list with a sublist for each word containing the word in uppercase and lowercase and the length of the word"
   ]
  },
  {
   "cell_type": "code",
   "execution_count": 14,
   "id": "f9826531",
   "metadata": {},
   "outputs": [
    {
     "data": {
      "text/plain": [
       "[['THE', 'the', 3],\n",
       " ['QUICK', 'quick', 5],\n",
       " ['BROWN', 'brown', 5],\n",
       " ['FOX', 'fox', 3],\n",
       " ['JUMPS', 'jumps', 5],\n",
       " ['OVER', 'over', 4],\n",
       " ['THE', 'the', 3],\n",
       " ['LAZY', 'lazy', 4],\n",
       " ['DOG', 'dog', 3]]"
      ]
     },
     "execution_count": 14,
     "metadata": {},
     "output_type": "execute_result"
    }
   ],
   "source": [
    "[[word.upper(), word.lower(), len(word)] for word in words]"
   ]
  },
  {
   "cell_type": "code",
   "execution_count": null,
   "id": "48c48024",
   "metadata": {},
   "outputs": [],
   "source": [
    "# To generate a list with only the words in words that have 4 or more characters"
   ]
  },
  {
   "cell_type": "code",
   "execution_count": 15,
   "id": "76a2376b",
   "metadata": {},
   "outputs": [
    {
     "data": {
      "text/plain": [
       "['quick', 'brown', 'jumps', 'over', 'lazy']"
      ]
     },
     "execution_count": 15,
     "metadata": {},
     "output_type": "execute_result"
    }
   ],
   "source": [
    "[word for word in words if len(word) >= 4]"
   ]
  },
  {
   "cell_type": "code",
   "execution_count": null,
   "id": "dbc795cd",
   "metadata": {},
   "outputs": [],
   "source": []
  }
 ],
 "metadata": {
  "kernelspec": {
   "display_name": "Python 3 (ipykernel)",
   "language": "python",
   "name": "python3"
  },
  "language_info": {
   "codemirror_mode": {
    "name": "ipython",
    "version": 3
   },
   "file_extension": ".py",
   "mimetype": "text/x-python",
   "name": "python",
   "nbconvert_exporter": "python",
   "pygments_lexer": "ipython3",
   "version": "3.9.13"
  }
 },
 "nbformat": 4,
 "nbformat_minor": 5
}
