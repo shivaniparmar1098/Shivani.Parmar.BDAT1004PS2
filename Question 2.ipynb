{
 "cells": [
  {
   "cell_type": "code",
   "execution_count": 1,
   "id": "3d45f029",
   "metadata": {},
   "outputs": [],
   "source": [
    "# Question 2 "
   ]
  },
  {
   "cell_type": "code",
   "execution_count": null,
   "id": "4ec68f62",
   "metadata": {},
   "outputs": [],
   "source": [
    "# here a function fileLength() is defined to find the file length of a given file. \n",
    "# the function includes try except block to catch the exception, if the file name given is not found."
   ]
  },
  {
   "cell_type": "code",
   "execution_count": 4,
   "id": "fe664f19",
   "metadata": {},
   "outputs": [],
   "source": [
    "def fileLength(Filelength):\n",
    "    try:\n",
    "        infile = open(Filelength)\n",
    "        length = infile.read()\n",
    "        infile.close()\n",
    "        return len(length)\n",
    "    except FileNotFoundError:\n",
    "        print(\"File\", Filelength, \"not found\")"
   ]
  },
  {
   "cell_type": "code",
   "execution_count": null,
   "id": "e3c2d426",
   "metadata": {},
   "outputs": [],
   "source": [
    "# here the function calls the \"Filelength.txt\" file and returns the length of the file."
   ]
  },
  {
   "cell_type": "code",
   "execution_count": 5,
   "id": "b9cf17e7",
   "metadata": {},
   "outputs": [
    {
     "data": {
      "text/plain": [
       "123"
      ]
     },
     "execution_count": 5,
     "metadata": {},
     "output_type": "execute_result"
    }
   ],
   "source": [
    "fileLength('Filelength.txt')"
   ]
  },
  {
   "cell_type": "code",
   "execution_count": null,
   "id": "2cd7d372",
   "metadata": {},
   "outputs": [],
   "source": [
    "# here the function goes to the except block and prints file not found message, as the file is not available."
   ]
  },
  {
   "cell_type": "code",
   "execution_count": 6,
   "id": "e69b2d19",
   "metadata": {},
   "outputs": [
    {
     "name": "stdout",
     "output_type": "stream",
     "text": [
      "File length.txt not found\n"
     ]
    }
   ],
   "source": [
    "fileLength('length.txt')"
   ]
  }
 ],
 "metadata": {
  "kernelspec": {
   "display_name": "Python 3 (ipykernel)",
   "language": "python",
   "name": "python3"
  },
  "language_info": {
   "codemirror_mode": {
    "name": "ipython",
    "version": 3
   },
   "file_extension": ".py",
   "mimetype": "text/x-python",
   "name": "python",
   "nbconvert_exporter": "python",
   "pygments_lexer": "ipython3",
   "version": "3.9.13"
  }
 },
 "nbformat": 4,
 "nbformat_minor": 5
}
