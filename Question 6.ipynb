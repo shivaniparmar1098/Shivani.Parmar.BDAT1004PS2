{
 "cells": [
  {
   "cell_type": "code",
   "execution_count": 22,
   "id": "3477ad82",
   "metadata": {},
   "outputs": [],
   "source": [
    "# Question 6"
   ]
  },
  {
   "cell_type": "code",
   "execution_count": null,
   "id": "6d8659a6",
   "metadata": {},
   "outputs": [],
   "source": [
    "# Parsing the heading tag H1 and H2 in the class"
   ]
  },
  {
   "cell_type": "code",
   "execution_count": null,
   "id": "c331a089",
   "metadata": {},
   "outputs": [],
   "source": [
    "from html.parser import HTMLParser\n",
    "\n",
    "class HeadingParser(HTMLParser):\n",
    "    def __init__(self):\n",
    "        super().__init__()\n",
    "        self.heading_level = 0\n",
    "        self.heading_text = \"\"\n",
    "\n",
    "    def handle_starttag(self, tag, attrs):\n",
    "        if tag in [\"h1\", \"h2\"]:\n",
    "            self.heading_level = int(tag[1]) - 1\n",
    "            self.heading_text = \"\"\n",
    "\n",
    "    def handle_data(self, data):\n",
    "        if self.heading_level >= 0:\n",
    "            self.heading_text += data\n",
    "\n",
    "    def handle_endtag(self, tag):\n",
    "        if tag in [\"h1\", \"h2\"]:\n",
    "            print(\"\" * self.heading_level + self.heading_text)"
   ]
  },
  {
   "cell_type": "code",
   "execution_count": 23,
   "id": "2af24380",
   "metadata": {},
   "outputs": [],
   "source": [
    "infile = open('w3c.html')"
   ]
  },
  {
   "cell_type": "code",
   "execution_count": 24,
   "id": "af30a8fb",
   "metadata": {},
   "outputs": [],
   "source": [
    "content = infile.read()"
   ]
  },
  {
   "cell_type": "code",
   "execution_count": 25,
   "id": "6d92ebf4",
   "metadata": {},
   "outputs": [],
   "source": [
    "hp = HeadingParser()"
   ]
  },
  {
   "cell_type": "code",
   "execution_count": 26,
   "id": "a4938706",
   "metadata": {},
   "outputs": [],
   "source": [
    "infile.close()"
   ]
  },
  {
   "cell_type": "code",
   "execution_count": 27,
   "id": "70d3b725",
   "metadata": {},
   "outputs": [
    {
     "name": "stdout",
     "output_type": "stream",
     "text": [
      "W3C Mission\n",
      "Principles\n"
     ]
    }
   ],
   "source": [
    "hp.feed(content) "
   ]
  }
 ],
 "metadata": {
  "kernelspec": {
   "display_name": "Python 3 (ipykernel)",
   "language": "python",
   "name": "python3"
  },
  "language_info": {
   "codemirror_mode": {
    "name": "ipython",
    "version": 3
   },
   "file_extension": ".py",
   "mimetype": "text/x-python",
   "name": "python",
   "nbconvert_exporter": "python",
   "pygments_lexer": "ipython3",
   "version": "3.9.13"
  }
 },
 "nbformat": 4,
 "nbformat_minor": 5
}
