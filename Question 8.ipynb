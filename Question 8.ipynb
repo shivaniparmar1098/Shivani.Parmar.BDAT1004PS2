{
 "cells": [
  {
   "cell_type": "code",
   "execution_count": null,
   "id": "396b836e",
   "metadata": {},
   "outputs": [],
   "source": [
    "# Question 8"
   ]
  },
  {
   "cell_type": "code",
   "execution_count": 1,
   "id": "554b08c5",
   "metadata": {},
   "outputs": [],
   "source": [
    "import sqlite3"
   ]
  },
  {
   "cell_type": "code",
   "execution_count": null,
   "id": "3a1ea785",
   "metadata": {},
   "outputs": [],
   "source": [
    "# creating test.db database to store the data"
   ]
  },
  {
   "cell_type": "code",
   "execution_count": 2,
   "id": "bc0c2f75",
   "metadata": {},
   "outputs": [],
   "source": [
    "conn = sqlite3.connect('test.db')"
   ]
  },
  {
   "cell_type": "code",
   "execution_count": null,
   "id": "bdecebd9",
   "metadata": {},
   "outputs": [],
   "source": [
    "# creating a table test"
   ]
  },
  {
   "cell_type": "code",
   "execution_count": 4,
   "id": "7e77967e",
   "metadata": {},
   "outputs": [
    {
     "data": {
      "text/plain": [
       "<sqlite3.Cursor at 0x2060b511f10>"
      ]
     },
     "execution_count": 4,
     "metadata": {},
     "output_type": "execute_result"
    }
   ],
   "source": [
    "conn.execute('''CREATE TABLE test(City text,Country text,Season text,Temperature integer,Rainfall integer);''')"
   ]
  },
  {
   "cell_type": "code",
   "execution_count": null,
   "id": "8ea84619",
   "metadata": {},
   "outputs": [],
   "source": [
    "# Performing insert operation"
   ]
  },
  {
   "cell_type": "code",
   "execution_count": 5,
   "id": "e6e967d7",
   "metadata": {},
   "outputs": [
    {
     "data": {
      "text/plain": [
       "<sqlite3.Cursor at 0x2060b511ea0>"
      ]
     },
     "execution_count": 5,
     "metadata": {},
     "output_type": "execute_result"
    }
   ],
   "source": [
    "conn.execute(\"insert into test(City,Country,Season,Temperature,Rainfall) values('Mumbai','India','Winter',24.8,5.9);\")\n",
    "conn.execute(\"insert into test(City,Country,Season,Temperature,Rainfall) values('Mumbai','India','Spring',28.4,16.2);\")\n",
    "conn.execute(\"insert into test(City,Country,Season,Temperature,Rainfall) values('Mumbai','India','Summer',27.9,1549.4);\")\n",
    "conn.execute(\"insert into test(City,Country,Season,Temperature,Rainfall) values('Mumbai','India','Fall',27.6,346.0);\")\n",
    "conn.execute(\"insert into test(City,Country,Season,Temperature,Rainfall) values('London','United Kingdom','Winter',4.2,207.7);\")\n",
    "conn.execute(\"insert into test(City,Country,Season,Temperature,Rainfall) values('London','United Kingdom','Spring',8.3,169.6);\")\n",
    "conn.execute(\"insert into test(City,Country,Season,Temperature,Rainfall) values('London','United Kingdom','Summer',15.7,157.0);\")\n",
    "conn.execute(\"insert into test(City,Country,Season,Temperature,Rainfall) values('London','United Kingdom','Fall',10.4,218.5);\")\n",
    "conn.execute(\"insert into test(City,Country,Season,Temperature,Rainfall) values('Cairo','Egypt','Winter',13.6,16.5);\")\n",
    "conn.execute(\"insert into test(City,Country,Season,Temperature,Rainfall) values('Cairo','Egypt','Spring',20.7,6.5);\")\n",
    "conn.execute(\"insert into test(City,Country,Season,Temperature,Rainfall) values('Cairo','Egypt','Summer',27.7,0.1);\")\n",
    "conn.execute(\"insert into test(City,Country,Season,Temperature,Rainfall) values('Cairo','Egypt','Fall',22.2,4.5);\")"
   ]
  },
  {
   "cell_type": "code",
   "execution_count": null,
   "id": "cbc029b8",
   "metadata": {},
   "outputs": [],
   "source": [
    "# Fetching the table results."
   ]
  },
  {
   "cell_type": "code",
   "execution_count": 6,
   "id": "5796a95a",
   "metadata": {},
   "outputs": [
    {
     "data": {
      "text/plain": [
       "[('Mumbai', 'India', 'Winter', 24.8, 5.9),\n",
       " ('Mumbai', 'India', 'Spring', 28.4, 16.2),\n",
       " ('Mumbai', 'India', 'Summer', 27.9, 1549.4),\n",
       " ('Mumbai', 'India', 'Fall', 27.6, 346),\n",
       " ('London', 'United Kingdom', 'Winter', 4.2, 207.7),\n",
       " ('London', 'United Kingdom', 'Spring', 8.3, 169.6),\n",
       " ('London', 'United Kingdom', 'Summer', 15.7, 157),\n",
       " ('London', 'United Kingdom', 'Fall', 10.4, 218.5),\n",
       " ('Cairo', 'Egypt', 'Winter', 13.6, 16.5),\n",
       " ('Cairo', 'Egypt', 'Spring', 20.7, 6.5),\n",
       " ('Cairo', 'Egypt', 'Summer', 27.7, 0.1),\n",
       " ('Cairo', 'Egypt', 'Fall', 22.2, 4.5)]"
      ]
     },
     "execution_count": 6,
     "metadata": {},
     "output_type": "execute_result"
    }
   ],
   "source": [
    "conn.execute(\"select * from test\").fetchall()"
   ]
  },
  {
   "cell_type": "code",
   "execution_count": null,
   "id": "4a240620",
   "metadata": {},
   "outputs": [],
   "source": [
    "# a) All the temperature data"
   ]
  },
  {
   "cell_type": "code",
   "execution_count": 10,
   "id": "abfc2d26",
   "metadata": {},
   "outputs": [
    {
     "data": {
      "text/plain": [
       "[(24.8,),\n",
       " (28.4,),\n",
       " (27.9,),\n",
       " (27.6,),\n",
       " (4.2,),\n",
       " (8.3,),\n",
       " (15.7,),\n",
       " (10.4,),\n",
       " (13.6,),\n",
       " (20.7,),\n",
       " (27.7,),\n",
       " (22.2,)]"
      ]
     },
     "execution_count": 10,
     "metadata": {},
     "output_type": "execute_result"
    }
   ],
   "source": [
    "conn.execute(\"select Temperature from test\").fetchall()"
   ]
  },
  {
   "cell_type": "code",
   "execution_count": null,
   "id": "b4eb4acb",
   "metadata": {},
   "outputs": [],
   "source": [
    "# b) All the cities, but without repetition"
   ]
  },
  {
   "cell_type": "code",
   "execution_count": 15,
   "id": "4cec8bce",
   "metadata": {},
   "outputs": [
    {
     "data": {
      "text/plain": [
       "[('Mumbai',), ('London',), ('Cairo',)]"
      ]
     },
     "execution_count": 15,
     "metadata": {},
     "output_type": "execute_result"
    }
   ],
   "source": [
    "conn.execute(\"select distinct City from test\").fetchall()"
   ]
  },
  {
   "cell_type": "code",
   "execution_count": null,
   "id": "f42697f4",
   "metadata": {},
   "outputs": [],
   "source": [
    "# c) All the records for India"
   ]
  },
  {
   "cell_type": "code",
   "execution_count": 16,
   "id": "1ad24457",
   "metadata": {},
   "outputs": [
    {
     "data": {
      "text/plain": [
       "[('Mumbai', 'India', 'Winter', 24.8, 5.9),\n",
       " ('Mumbai', 'India', 'Spring', 28.4, 16.2),\n",
       " ('Mumbai', 'India', 'Summer', 27.9, 1549.4),\n",
       " ('Mumbai', 'India', 'Fall', 27.6, 346)]"
      ]
     },
     "execution_count": 16,
     "metadata": {},
     "output_type": "execute_result"
    }
   ],
   "source": [
    "conn.execute(\"select * from test where Country = 'India'\").fetchall()"
   ]
  },
  {
   "cell_type": "code",
   "execution_count": null,
   "id": "bacc4094",
   "metadata": {},
   "outputs": [],
   "source": [
    "# d) All the Fall records"
   ]
  },
  {
   "cell_type": "code",
   "execution_count": 17,
   "id": "3959709f",
   "metadata": {},
   "outputs": [
    {
     "data": {
      "text/plain": [
       "[('Mumbai', 'India', 'Fall', 27.6, 346),\n",
       " ('London', 'United Kingdom', 'Fall', 10.4, 218.5),\n",
       " ('Cairo', 'Egypt', 'Fall', 22.2, 4.5)]"
      ]
     },
     "execution_count": 17,
     "metadata": {},
     "output_type": "execute_result"
    }
   ],
   "source": [
    "conn.execute(\"select * from test where Season = 'Fall'\").fetchall()"
   ]
  },
  {
   "cell_type": "code",
   "execution_count": null,
   "id": "5734f83c",
   "metadata": {},
   "outputs": [],
   "source": [
    "# e) The city, country, and season for which the average rainfall is between 200 and 400 millimeters"
   ]
  },
  {
   "cell_type": "code",
   "execution_count": 20,
   "id": "b43f4ebf",
   "metadata": {},
   "outputs": [
    {
     "data": {
      "text/plain": [
       "[('London', 'United Kingdom', 'Fall'),\n",
       " ('London', 'United Kingdom', 'Winter'),\n",
       " ('Mumbai', 'India', 'Fall')]"
      ]
     },
     "execution_count": 20,
     "metadata": {},
     "output_type": "execute_result"
    }
   ],
   "source": [
    "conn.execute(\"select City,Country,Season from test group by City,Country,Season having AVG(Rainfall) between 200 and 400\").fetchall()"
   ]
  },
  {
   "cell_type": "code",
   "execution_count": null,
   "id": "39053ccf",
   "metadata": {},
   "outputs": [],
   "source": [
    "# f) The city and country for which the average Fall temperature is above 20 degrees, in increasing temperature order"
   ]
  },
  {
   "cell_type": "code",
   "execution_count": 22,
   "id": "6c3c1bb2",
   "metadata": {},
   "outputs": [
    {
     "data": {
      "text/plain": [
       "[('Cairo', 'Egypt'), ('Mumbai', 'India')]"
      ]
     },
     "execution_count": 22,
     "metadata": {},
     "output_type": "execute_result"
    }
   ],
   "source": [
    "conn.execute(\"select City,Country from test where Season ='Fall' group by City,Country having AVG(Temperature) > 20 order BY AVG(Temperature) ASC\").fetchall()"
   ]
  },
  {
   "cell_type": "code",
   "execution_count": null,
   "id": "535067bb",
   "metadata": {},
   "outputs": [],
   "source": [
    "# g) The total annual rainfall for Cairo"
   ]
  },
  {
   "cell_type": "code",
   "execution_count": 23,
   "id": "f1efce4e",
   "metadata": {},
   "outputs": [
    {
     "data": {
      "text/plain": [
       "[(27.6,)]"
      ]
     },
     "execution_count": 23,
     "metadata": {},
     "output_type": "execute_result"
    }
   ],
   "source": [
    "conn.execute(\"select sum(Rainfall) from test where City = 'Cairo'\").fetchall()"
   ]
  },
  {
   "cell_type": "code",
   "execution_count": null,
   "id": "111d6990",
   "metadata": {},
   "outputs": [],
   "source": [
    "# h) The total rainfall for each season"
   ]
  },
  {
   "cell_type": "code",
   "execution_count": 24,
   "id": "e99cc9ab",
   "metadata": {},
   "outputs": [
    {
     "data": {
      "text/plain": [
       "[('Fall', 569.0),\n",
       " ('Spring', 192.29999999999998),\n",
       " ('Summer', 1706.5),\n",
       " ('Winter', 230.1)]"
      ]
     },
     "execution_count": 24,
     "metadata": {},
     "output_type": "execute_result"
    }
   ],
   "source": [
    "conn.execute(\"select Season, sum(Rainfall) from test group by Season\").fetchall()"
   ]
  },
  {
   "cell_type": "code",
   "execution_count": null,
   "id": "5a9481a1",
   "metadata": {},
   "outputs": [],
   "source": []
  }
 ],
 "metadata": {
  "kernelspec": {
   "display_name": "Python 3 (ipykernel)",
   "language": "python",
   "name": "python3"
  },
  "language_info": {
   "codemirror_mode": {
    "name": "ipython",
    "version": 3
   },
   "file_extension": ".py",
   "mimetype": "text/x-python",
   "name": "python",
   "nbconvert_exporter": "python",
   "pygments_lexer": "ipython3",
   "version": "3.9.13"
  }
 },
 "nbformat": 4,
 "nbformat_minor": 5
}
